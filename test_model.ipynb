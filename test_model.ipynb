{
 "cells": [
  {
   "cell_type": "markdown",
   "metadata": {},
   "source": [
    "# User input and API testing"
   ]
  },
  {
   "cell_type": "code",
   "execution_count": 28,
   "metadata": {},
   "outputs": [],
   "source": [
    "import requests\n",
    "import pandas as pd"
   ]
  },
  {
   "cell_type": "code",
   "execution_count": 112,
   "metadata": {},
   "outputs": [
    {
     "name": "stdout",
     "output_type": "stream",
     "text": [
      "According to our model, you would survive the Titanic disaster!\n"
     ]
    }
   ],
   "source": [
    "data = {\"Age\": 25, \"SibSp\": 2, \"Parch\": 0, \"Sex\": \"female\", \"Pclass\": 2}\n",
    "payload = {'data': data}\n",
    "url = 'http://127.0.0.1:5000/RandomForest'\n",
    "\n",
    "r = requests.post(url, json=payload)\n",
    "rdata = r.json()\n",
    "pred = rdata['Prediction']\n",
    "print(pred)"
   ]
  }
 ],
 "metadata": {
  "kernelspec": {
   "display_name": "Python 3.9.13 ('base')",
   "language": "python",
   "name": "python3"
  },
  "language_info": {
   "codemirror_mode": {
    "name": "ipython",
    "version": 3
   },
   "file_extension": ".py",
   "mimetype": "text/x-python",
   "name": "python",
   "nbconvert_exporter": "python",
   "pygments_lexer": "ipython3",
   "version": "3.9.13"
  },
  "orig_nbformat": 4,
  "vscode": {
   "interpreter": {
    "hash": "6d6b451834e8182e7cdf62453efcd6e9709cd54e14d7b1cfa3baf33f96031eba"
   }
  }
 },
 "nbformat": 4,
 "nbformat_minor": 2
}
